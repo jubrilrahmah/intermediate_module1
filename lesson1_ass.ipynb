{
  "nbformat": 4,
  "nbformat_minor": 0,
  "metadata": {
    "colab": {
      "provenance": [],
      "authorship_tag": "ABX9TyPvKnzQuAGEZgS2FQTq0j9f",
      "include_colab_link": true
    },
    "kernelspec": {
      "name": "python3",
      "display_name": "Python 3"
    },
    "language_info": {
      "name": "python"
    }
  },
  "cells": [
    {
      "cell_type": "markdown",
      "metadata": {
        "id": "view-in-github",
        "colab_type": "text"
      },
      "source": [
        "<a href=\"https://colab.research.google.com/github/jubrilrahmah/intermediate_module1/blob/main/lesson1_ass.ipynb\" target=\"_parent\"><img src=\"https://colab.research.google.com/assets/colab-badge.svg\" alt=\"Open In Colab\"/></a>"
      ]
    },
    {
      "cell_type": "code",
      "source": [
        "print(\"Module 1, lesson 1, Assignment\")"
      ],
      "metadata": {
        "id": "R7SUfKNmeTSV",
        "colab": {
          "base_uri": "https://localhost:8080/"
        },
        "outputId": "35ea657d-0522-4df7-9c2c-673dfdecb447"
      },
      "execution_count": 13,
      "outputs": [
        {
          "output_type": "stream",
          "name": "stdout",
          "text": [
            "Module 1, lesson 1, Assignment\n"
          ]
        }
      ]
    },
    {
      "cell_type": "code",
      "execution_count": 11,
      "metadata": {
        "colab": {
          "base_uri": "https://localhost:8080/"
        },
        "id": "jp1UwUbjaG7X",
        "outputId": "1b8322c3-8768-464c-cdfd-ac1b56fb8a44"
      },
      "outputs": [
        {
          "output_type": "stream",
          "name": "stdout",
          "text": [
            "Question 1\n",
            "\n",
            " Ramat\n",
            "\n",
            " Abidat\n",
            "\n",
            " Maryam\n",
            "\n",
            " Yusuf\n",
            "Done\n"
          ]
        }
      ],
      "source": [
        "\n",
        "print(\"Question 1\")\n",
        "#1. using else block to display a message \"Done\" after succesful excecution of a for loop\n",
        "#this for loop is scanning through the list below to know if anynof the object in the leng of the list is same that in the if conditional statement\n",
        "#there is a clause condition to \"continue\" if the value is not Bushrah so when its done with loop(i.e the objects in the list), its print an statment of \"done\" statement\n",
        "namelist= [\"Ramat\", \"Bushrah\", \"Abidat\", \"Maryam\",\"Yusuf\"]\n",
        "for i in range(len(namelist)):\n",
        "    if namelist[i] == \"Bushrah\":\n",
        "        continue\n",
        "    print(\"\\n\", namelist[i])\n",
        "else:\n",
        "        print(\"Done\")"
      ]
    },
    {
      "cell_type": "code",
      "source": [
        "#2. Write a programme to display all prime numbers within a range \n",
        "a= int(input(\"lower range value\"))\n",
        "b= int(input (\"upper range value\"))\n",
        "for i in range (a, b):\n",
        "    if i > 1: # since 1 is not a prime number, hence looking for numbers above one that suit prime condition\n",
        "        for values in range(2, i):\n",
        "            if (i%values) == 0:\n",
        "                break\n",
        "    \n",
        "        else:\n",
        "            print( i, end= \" \")"
      ],
      "metadata": {
        "colab": {
          "base_uri": "https://localhost:8080/"
        },
        "id": "0hi1PPEYatgq",
        "outputId": "fc21547b-0c9b-4883-e808-a061b8a380ee"
      },
      "execution_count": null,
      "outputs": [
        {
          "output_type": "stream",
          "name": "stdout",
          "text": [
            "lower range value3\n",
            "upper range value59\n",
            "3 5 7 11 13 17 19 23 29 31 37 41 43 47 53 "
          ]
        }
      ]
    },
    {
      "cell_type": "code",
      "source": [
        "#3. Use a loop to display elements from a given list presnt at odd index positions\n",
        "namelists= [\"Ramat\", \"Bushrah\", \"Abidat\", \"Maryam\",\"Yusuf\"]\n",
        "for i in range(len(namelists)): #that is within length of object\n",
        "#from the list above, the len is 5, hence range is within 0, 5(i.e 0,1, 2, 4) which is sme as normal index of the list\n",
        "    if i %2 != 0:\n",
        "        print(namelists[i])\n",
        "\n",
        "    # else:\n",
        "    #   print(namelists[i], \"not in odd index position\")"
      ],
      "metadata": {
        "colab": {
          "base_uri": "https://localhost:8080/"
        },
        "id": "MgVra2-8bK0S",
        "outputId": "ea71d7a6-dde3-4a74-d20a-8bbe262c71fd"
      },
      "execution_count": null,
      "outputs": [
        {
          "output_type": "stream",
          "name": "stdout",
          "text": [
            "Bushrah\n",
            "Maryam\n"
          ]
        }
      ]
    },
    {
      "cell_type": "code",
      "source": [
        "#4 calculate the cube of all numbers from 1 to a given number\n",
        "z= int(input(\"enter the any number above 1: \"))\n",
        "\n",
        "#using the lambda function to print out the cube of values from 1 to the number \"z\" given above\n",
        "num = lambda x: x**3\n",
        "for i in range(1, z+1):\n",
        "    # print([i], end= \" \") #another way of printing range, but in this case, it list each of the value\n",
        "        print(num(i), end= \" \")\n",
        "\n"
      ],
      "metadata": {
        "colab": {
          "base_uri": "https://localhost:8080/"
        },
        "id": "NWSyPnuDb50y",
        "outputId": "8bce7084-2084-4e35-a748-e9a92fa5b70d"
      },
      "execution_count": null,
      "outputs": [
        {
          "output_type": "stream",
          "name": "stdout",
          "text": [
            "enter the any number above 1: 20\n",
            "1 8 27 64 125 216 343 512 729 1000 1331 1728 2197 2744 3375 4096 4913 5832 6859 8000 "
          ]
        }
      ]
    }
  ]
}