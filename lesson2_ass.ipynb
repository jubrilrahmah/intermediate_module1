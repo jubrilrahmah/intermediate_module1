{
  "nbformat": 4,
  "nbformat_minor": 0,
  "metadata": {
    "colab": {
      "provenance": [],
      "collapsed_sections": [],
      "authorship_tag": "ABX9TyP3srZqPbdM/6fDXQ0M0Xll",
      "include_colab_link": true
    },
    "kernelspec": {
      "name": "python3",
      "display_name": "Python 3"
    },
    "language_info": {
      "name": "python"
    }
  },
  "cells": [
    {
      "cell_type": "markdown",
      "metadata": {
        "id": "view-in-github",
        "colab_type": "text"
      },
      "source": [
        "<a href=\"https://colab.research.google.com/github/jubrilrahmah/intermediate_module1/blob/main/lesson2_ass.ipynb\" target=\"_parent\"><img src=\"https://colab.research.google.com/assets/colab-badge.svg\" alt=\"Open In Colab\"/></a>"
      ]
    },
    {
      "cell_type": "code",
      "execution_count": null,
      "metadata": {
        "id": "OS8_G4Jgqtnc"
      },
      "outputs": [],
      "source": [
        "print(\" Moduel 1, lesson 2, Assignment\")"
      ]
    },
    {
      "cell_type": "code",
      "source": [
        "print(\"Question 1\")\n",
        "#1. Create a function, that repeats the first 2 letters of a word which will be followed by 3 dots and a space after\n",
        "\n",
        "def myfunc(choice):\n",
        "    \n",
        "        y= (choice[0:2] + \".\"*3 + \" \" )*2 + choice[0:] +\"?\"\n",
        "        \n",
        "        return y    \n",
        "       \n",
        "choice= input(\"insert any word or name of choice: \")\n",
        "print(myfunc(choice))\n",
        "\n",
        "# solved using the concatenate function\n",
        "# note: you might be expecting more, please help comment another way i can bering the code to life \n"
      ],
      "metadata": {
        "colab": {
          "base_uri": "https://localhost:8080/"
        },
        "id": "U9KH1bdl0ZcA",
        "outputId": "5da6723f-18ec-4b9c-ad04-2be5860de0af"
      },
      "execution_count": 20,
      "outputs": [
        {
          "output_type": "stream",
          "name": "stdout",
          "text": [
            "Question 1\n",
            "insert any word or name of choice: grace\n",
            "gr... gr... grace?\n"
          ]
        }
      ]
    },
    {
      "cell_type": "code",
      "source": [
        "print(\"Question 2\")\n",
        "# Perform a for loop that searches through a string and prints only distinct vowel letters.\n",
        "word= input(\"word of choice: \")\n",
        "u= \"\"\n",
        "for v in word:\n",
        "    vowel= \"aeiou\"\n",
        "    if v in vowel:\n",
        "        u +=v\n",
        "\n",
        "        continue   \n",
        "print( \"\".join(set(u)))\n"
      ],
      "metadata": {
        "colab": {
          "base_uri": "https://localhost:8080/"
        },
        "id": "HOuy_R19Iakt",
        "outputId": "c65db252-1ea5-4d1c-aec5-be364a678a38"
      },
      "execution_count": 21,
      "outputs": [
        {
          "output_type": "stream",
          "name": "stdout",
          "text": [
            "Question 2\n",
            "word of choice: insensitive\n",
            "ie\n"
          ]
        }
      ]
    },
    {
      "cell_type": "code",
      "source": [
        "#trying question two in another format\n",
        "word= input(\"word of choice: \")\n",
        "u= \"\"\n",
        "for v in word:\n",
        "    # vowel= [\"a\", \"A\", \"e\", \"E\", \"i\", \"I\", \"o\",\"O\" ,\"u\", \"U\"]\n",
        "    vowel= \"aeiou\"\n",
        "    if v.lower() in vowel.lower():\n",
        "        u +=v\n",
        "\n",
        "        continue \n",
        "print( \"\".join(set(u)))\n",
        "\n",
        "#trying the above question in situation where there is same vowel in upper case and lower case\n",
        "#this is to check if its going to return the distinct vowel.\n",
        "#The outup is containing the same vowles both in upper and lower case"
      ],
      "metadata": {
        "colab": {
          "base_uri": "https://localhost:8080/"
        },
        "id": "GYnRvWNyKVBp",
        "outputId": "46883790-f418-4baa-ad1c-2b8c053262da"
      },
      "execution_count": 14,
      "outputs": [
        {
          "output_type": "stream",
          "name": "stdout",
          "text": [
            "word of choice: AmazinggracE\n",
            "AiaE\n"
          ]
        }
      ]
    },
    {
      "cell_type": "markdown",
      "source": [
        "Please i need your help based on this second option. Thanks"
      ],
      "metadata": {
        "id": "kCbq4N9JyXbT"
      }
    },
    {
      "cell_type": "code",
      "source": [
        "print(\"Question 3\")\n",
        "# Perform a while loop that requests for a name, if that name is entered, it will be printed else, if user types “end” (this command should be case insensitive), the while loop is terminated\n",
        "\n",
        "enter = True\n",
        "while enter: \n",
        "    name = input('Enter your name, or type end to exit ')\n",
        "# thats is if name enter is not quit (the first while expression is considered)\n",
        "\n",
        "    if name.lower() == \"end\".lower(): #this line is making the \"end\" word case insensitive\n",
        "        enter = False #the exist statemnt is considered when the keep going is false and thats if enter is \"end\"\n"
      ],
      "metadata": {
        "colab": {
          "base_uri": "https://localhost:8080/"
        },
        "id": "AJT2T5onyuI2",
        "outputId": "ca25efdf-1c9a-4516-954f-2adcf11704fc"
      },
      "execution_count": 18,
      "outputs": [
        {
          "name": "stdout",
          "output_type": "stream",
          "text": [
            "Question 3\n",
            "Enter your name, or type end to exit Ramat\n",
            "Enter your name, or type end to exit Tee\n",
            "Enter your name, or type end to exit eNd\n"
          ]
        }
      ]
    }
  ]
}